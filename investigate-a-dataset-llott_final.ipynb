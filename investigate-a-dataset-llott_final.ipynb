{
 "cells": [
  {
   "cell_type": "markdown",
   "metadata": {},
   "source": [
    "# Project: Exploring Movie Popularity and Revenue \n",
    "\n",
    "## Table of Contents\n",
    "<ul>\n",
    "<li><a href=\"#intro\">Introduction</a></li>\n",
    "<li><a href=\"#wrangling\">Data Wrangling</a></li>\n",
    "<li><a href=\"#eda\">Exploratory Data Analysis</a></li>\n",
    "<li><a href=\"#conclusions\">Conclusions</a></li>\n",
    "</ul>"
   ]
  },
  {
   "cell_type": "markdown",
   "metadata": {},
   "source": [
    "<a id='intro'></a>\n",
    "\n",
    "# Exploring Movie Popularity and Revenue \n",
    "\n",
    "We will be exploring the movie dataset from The Movie Database (TMDB), provided on Kaggle (https://www.kaggle.com/datasets/tmdb/tmdb-movie-metadata). The dataset is in a csv, with \",\" delimeters. It contains the columns: id, imdb_id, popularity, budget, revenue, original_title, cast, homepage, director, tagline, overview, runtime, genres, production_companies, release_date, vote_count, vote_average, release_year, budget_adj, revenue_adj. Some columns contain \"|\" delimeters.\n",
    "\n",
    "We could explore so many different questions with this data set. The possibilities are nearly endless. However, we're going to focus mostly on the possible relationships between popularity, budget, revenue, and runtime. We will explore if there are relationships with directors as well. We will also look at how many movies per year and how many movies are in each genre, just for curiosity purposes.\n",
    "\n",
    "The questions we're going to explore:\n",
    "- Are movies with higher budgets more popular?\n",
    "- Do more popular movies have higher revenue?\n",
    "- Do movies with higher budgets have higher revenue?\n",
    "- Are runtime and popularity correlated?\n",
    "- Do movies with longer runtimes have higher revenue?\n",
    "- Which movies have the highest revenue (top 10)? Who directed them?\n",
    "- Which movies are the most popular (top 10)? Who directed them?\n",
    "- How many movies are there per year?\n",
    "- How many movies are in each genre?\n",
    "\n",
    "Skip straight to the Exploratory Analysis:\n",
    "<li><a href=\"#functions\">Functions</a></li> \n",
    " - This section defines functions we use to reduce and simplify redundant code.\n",
    "<li><a href=\"#correlations\">Correlations</a></li>\n",
    " - This section explores correlations with all of our variables.\n",
    "<li><a href=\"#popularity\">Popularity</a></li>\n",
    " - This section explores and answers popularity related questions.\n",
    "<li><a href=\"#revenue\">Revenue</a></li>\n",
    " - This section explores and answers revenue related questions.\n",
    "<li><a href=\"#years\">Years</a></li>\n",
    "- This sections explores movies by year.\n",
    "<li><a href=\"#genres\">Genres</a></li>\n",
    "- This section explores number of movies by genre."
   ]
  },
  {
   "cell_type": "code",
   "execution_count": 313,
   "metadata": {},
   "outputs": [],
   "source": [
    "#Importing packages/libraries and using our magic word for in-notebook visualizations.\n",
    "\n",
    "import numpy as np\n",
    "import pandas as pd\n",
    "import seaborn as sns\n",
    "import matplotlib.pyplot as plt\n",
    "plt.style.use('bmh')\n",
    "from matplotlib import figure\n",
    "\n",
    "\n",
    "%matplotlib inline "
   ]
  },
  {
   "cell_type": "markdown",
   "metadata": {},
   "source": [
    "<a id='wrangling'></a>\n",
    "## Data Wrangling\n",
    "\n",
    "In this section, we load and preview our data to get an idea of the data structure.\n",
    "\n",
    "<a href=\"#intro\">Return to top</a>\n"
   ]
  },
  {
   "cell_type": "markdown",
   "metadata": {},
   "source": [
    "Let's load in our data from 'tmdb-movies.csv' as df_movies using pd.read_csv(). We'll use the .head() function to retrieve the first few rows and take a look at it to get an idea of what kind of data we have to work with."
   ]
  },
  {
   "cell_type": "code",
   "execution_count": 314,
   "metadata": {
    "scrolled": true
   },
   "outputs": [
    {
     "data": {
      "text/html": [
       "<div>\n",
       "<style scoped>\n",
       "    .dataframe tbody tr th:only-of-type {\n",
       "        vertical-align: middle;\n",
       "    }\n",
       "\n",
       "    .dataframe tbody tr th {\n",
       "        vertical-align: top;\n",
       "    }\n",
       "\n",
       "    .dataframe thead th {\n",
       "        text-align: right;\n",
       "    }\n",
       "</style>\n",
       "<table border=\"1\" class=\"dataframe\">\n",
       "  <thead>\n",
       "    <tr style=\"text-align: right;\">\n",
       "      <th></th>\n",
       "      <th>id</th>\n",
       "      <th>imdb_id</th>\n",
       "      <th>popularity</th>\n",
       "      <th>budget</th>\n",
       "      <th>revenue</th>\n",
       "      <th>original_title</th>\n",
       "      <th>cast</th>\n",
       "      <th>homepage</th>\n",
       "      <th>director</th>\n",
       "      <th>tagline</th>\n",
       "      <th>...</th>\n",
       "      <th>overview</th>\n",
       "      <th>runtime</th>\n",
       "      <th>genres</th>\n",
       "      <th>production_companies</th>\n",
       "      <th>release_date</th>\n",
       "      <th>vote_count</th>\n",
       "      <th>vote_average</th>\n",
       "      <th>release_year</th>\n",
       "      <th>budget_adj</th>\n",
       "      <th>revenue_adj</th>\n",
       "    </tr>\n",
       "  </thead>\n",
       "  <tbody>\n",
       "    <tr>\n",
       "      <th>0</th>\n",
       "      <td>135397</td>\n",
       "      <td>tt0369610</td>\n",
       "      <td>32.985763</td>\n",
       "      <td>150000000</td>\n",
       "      <td>1513528810</td>\n",
       "      <td>Jurassic World</td>\n",
       "      <td>Chris Pratt|Bryce Dallas Howard|Irrfan Khan|Vi...</td>\n",
       "      <td>http://www.jurassicworld.com/</td>\n",
       "      <td>Colin Trevorrow</td>\n",
       "      <td>The park is open.</td>\n",
       "      <td>...</td>\n",
       "      <td>Twenty-two years after the events of Jurassic ...</td>\n",
       "      <td>124</td>\n",
       "      <td>Action|Adventure|Science Fiction|Thriller</td>\n",
       "      <td>Universal Studios|Amblin Entertainment|Legenda...</td>\n",
       "      <td>6/9/15</td>\n",
       "      <td>5562</td>\n",
       "      <td>6.5</td>\n",
       "      <td>2015</td>\n",
       "      <td>1.379999e+08</td>\n",
       "      <td>1.392446e+09</td>\n",
       "    </tr>\n",
       "    <tr>\n",
       "      <th>1</th>\n",
       "      <td>76341</td>\n",
       "      <td>tt1392190</td>\n",
       "      <td>28.419936</td>\n",
       "      <td>150000000</td>\n",
       "      <td>378436354</td>\n",
       "      <td>Mad Max: Fury Road</td>\n",
       "      <td>Tom Hardy|Charlize Theron|Hugh Keays-Byrne|Nic...</td>\n",
       "      <td>http://www.madmaxmovie.com/</td>\n",
       "      <td>George Miller</td>\n",
       "      <td>What a Lovely Day.</td>\n",
       "      <td>...</td>\n",
       "      <td>An apocalyptic story set in the furthest reach...</td>\n",
       "      <td>120</td>\n",
       "      <td>Action|Adventure|Science Fiction|Thriller</td>\n",
       "      <td>Village Roadshow Pictures|Kennedy Miller Produ...</td>\n",
       "      <td>5/13/15</td>\n",
       "      <td>6185</td>\n",
       "      <td>7.1</td>\n",
       "      <td>2015</td>\n",
       "      <td>1.379999e+08</td>\n",
       "      <td>3.481613e+08</td>\n",
       "    </tr>\n",
       "    <tr>\n",
       "      <th>2</th>\n",
       "      <td>262500</td>\n",
       "      <td>tt2908446</td>\n",
       "      <td>13.112507</td>\n",
       "      <td>110000000</td>\n",
       "      <td>295238201</td>\n",
       "      <td>Insurgent</td>\n",
       "      <td>Shailene Woodley|Theo James|Kate Winslet|Ansel...</td>\n",
       "      <td>http://www.thedivergentseries.movie/#insurgent</td>\n",
       "      <td>Robert Schwentke</td>\n",
       "      <td>One Choice Can Destroy You</td>\n",
       "      <td>...</td>\n",
       "      <td>Beatrice Prior must confront her inner demons ...</td>\n",
       "      <td>119</td>\n",
       "      <td>Adventure|Science Fiction|Thriller</td>\n",
       "      <td>Summit Entertainment|Mandeville Films|Red Wago...</td>\n",
       "      <td>3/18/15</td>\n",
       "      <td>2480</td>\n",
       "      <td>6.3</td>\n",
       "      <td>2015</td>\n",
       "      <td>1.012000e+08</td>\n",
       "      <td>2.716190e+08</td>\n",
       "    </tr>\n",
       "    <tr>\n",
       "      <th>3</th>\n",
       "      <td>140607</td>\n",
       "      <td>tt2488496</td>\n",
       "      <td>11.173104</td>\n",
       "      <td>200000000</td>\n",
       "      <td>2068178225</td>\n",
       "      <td>Star Wars: The Force Awakens</td>\n",
       "      <td>Harrison Ford|Mark Hamill|Carrie Fisher|Adam D...</td>\n",
       "      <td>http://www.starwars.com/films/star-wars-episod...</td>\n",
       "      <td>J.J. Abrams</td>\n",
       "      <td>Every generation has a story.</td>\n",
       "      <td>...</td>\n",
       "      <td>Thirty years after defeating the Galactic Empi...</td>\n",
       "      <td>136</td>\n",
       "      <td>Action|Adventure|Science Fiction|Fantasy</td>\n",
       "      <td>Lucasfilm|Truenorth Productions|Bad Robot</td>\n",
       "      <td>12/15/15</td>\n",
       "      <td>5292</td>\n",
       "      <td>7.5</td>\n",
       "      <td>2015</td>\n",
       "      <td>1.839999e+08</td>\n",
       "      <td>1.902723e+09</td>\n",
       "    </tr>\n",
       "    <tr>\n",
       "      <th>4</th>\n",
       "      <td>168259</td>\n",
       "      <td>tt2820852</td>\n",
       "      <td>9.335014</td>\n",
       "      <td>190000000</td>\n",
       "      <td>1506249360</td>\n",
       "      <td>Furious 7</td>\n",
       "      <td>Vin Diesel|Paul Walker|Jason Statham|Michelle ...</td>\n",
       "      <td>http://www.furious7.com/</td>\n",
       "      <td>James Wan</td>\n",
       "      <td>Vengeance Hits Home</td>\n",
       "      <td>...</td>\n",
       "      <td>Deckard Shaw seeks revenge against Dominic Tor...</td>\n",
       "      <td>137</td>\n",
       "      <td>Action|Crime|Thriller</td>\n",
       "      <td>Universal Pictures|Original Film|Media Rights ...</td>\n",
       "      <td>4/1/15</td>\n",
       "      <td>2947</td>\n",
       "      <td>7.3</td>\n",
       "      <td>2015</td>\n",
       "      <td>1.747999e+08</td>\n",
       "      <td>1.385749e+09</td>\n",
       "    </tr>\n",
       "  </tbody>\n",
       "</table>\n",
       "<p>5 rows × 21 columns</p>\n",
       "</div>"
      ],
      "text/plain": [
       "       id    imdb_id  popularity     budget     revenue  \\\n",
       "0  135397  tt0369610   32.985763  150000000  1513528810   \n",
       "1   76341  tt1392190   28.419936  150000000   378436354   \n",
       "2  262500  tt2908446   13.112507  110000000   295238201   \n",
       "3  140607  tt2488496   11.173104  200000000  2068178225   \n",
       "4  168259  tt2820852    9.335014  190000000  1506249360   \n",
       "\n",
       "                 original_title  \\\n",
       "0                Jurassic World   \n",
       "1            Mad Max: Fury Road   \n",
       "2                     Insurgent   \n",
       "3  Star Wars: The Force Awakens   \n",
       "4                     Furious 7   \n",
       "\n",
       "                                                cast  \\\n",
       "0  Chris Pratt|Bryce Dallas Howard|Irrfan Khan|Vi...   \n",
       "1  Tom Hardy|Charlize Theron|Hugh Keays-Byrne|Nic...   \n",
       "2  Shailene Woodley|Theo James|Kate Winslet|Ansel...   \n",
       "3  Harrison Ford|Mark Hamill|Carrie Fisher|Adam D...   \n",
       "4  Vin Diesel|Paul Walker|Jason Statham|Michelle ...   \n",
       "\n",
       "                                            homepage          director  \\\n",
       "0                      http://www.jurassicworld.com/   Colin Trevorrow   \n",
       "1                        http://www.madmaxmovie.com/     George Miller   \n",
       "2     http://www.thedivergentseries.movie/#insurgent  Robert Schwentke   \n",
       "3  http://www.starwars.com/films/star-wars-episod...       J.J. Abrams   \n",
       "4                           http://www.furious7.com/         James Wan   \n",
       "\n",
       "                         tagline  ...  \\\n",
       "0              The park is open.  ...   \n",
       "1             What a Lovely Day.  ...   \n",
       "2     One Choice Can Destroy You  ...   \n",
       "3  Every generation has a story.  ...   \n",
       "4            Vengeance Hits Home  ...   \n",
       "\n",
       "                                            overview runtime  \\\n",
       "0  Twenty-two years after the events of Jurassic ...     124   \n",
       "1  An apocalyptic story set in the furthest reach...     120   \n",
       "2  Beatrice Prior must confront her inner demons ...     119   \n",
       "3  Thirty years after defeating the Galactic Empi...     136   \n",
       "4  Deckard Shaw seeks revenge against Dominic Tor...     137   \n",
       "\n",
       "                                      genres  \\\n",
       "0  Action|Adventure|Science Fiction|Thriller   \n",
       "1  Action|Adventure|Science Fiction|Thriller   \n",
       "2         Adventure|Science Fiction|Thriller   \n",
       "3   Action|Adventure|Science Fiction|Fantasy   \n",
       "4                      Action|Crime|Thriller   \n",
       "\n",
       "                                production_companies release_date vote_count  \\\n",
       "0  Universal Studios|Amblin Entertainment|Legenda...       6/9/15       5562   \n",
       "1  Village Roadshow Pictures|Kennedy Miller Produ...      5/13/15       6185   \n",
       "2  Summit Entertainment|Mandeville Films|Red Wago...      3/18/15       2480   \n",
       "3          Lucasfilm|Truenorth Productions|Bad Robot     12/15/15       5292   \n",
       "4  Universal Pictures|Original Film|Media Rights ...       4/1/15       2947   \n",
       "\n",
       "   vote_average  release_year    budget_adj   revenue_adj  \n",
       "0           6.5          2015  1.379999e+08  1.392446e+09  \n",
       "1           7.1          2015  1.379999e+08  3.481613e+08  \n",
       "2           6.3          2015  1.012000e+08  2.716190e+08  \n",
       "3           7.5          2015  1.839999e+08  1.902723e+09  \n",
       "4           7.3          2015  1.747999e+08  1.385749e+09  \n",
       "\n",
       "[5 rows x 21 columns]"
      ]
     },
     "execution_count": 314,
     "metadata": {},
     "output_type": "execute_result"
    }
   ],
   "source": [
    "df_movies = pd.read_csv('tmdb-movies.csv')\n",
    "df_movies.head()"
   ]
  },
  {
   "cell_type": "markdown",
   "metadata": {},
   "source": [
    "The .info() function gives us a quick overview of column names and data types, as well as non-null values."
   ]
  },
  {
   "cell_type": "code",
   "execution_count": 315,
   "metadata": {},
   "outputs": [
    {
     "name": "stdout",
     "output_type": "stream",
     "text": [
      "<class 'pandas.core.frame.DataFrame'>\n",
      "RangeIndex: 10866 entries, 0 to 10865\n",
      "Data columns (total 21 columns):\n",
      " #   Column                Non-Null Count  Dtype  \n",
      "---  ------                --------------  -----  \n",
      " 0   id                    10866 non-null  int64  \n",
      " 1   imdb_id               10856 non-null  object \n",
      " 2   popularity            10866 non-null  float64\n",
      " 3   budget                10866 non-null  int64  \n",
      " 4   revenue               10866 non-null  int64  \n",
      " 5   original_title        10866 non-null  object \n",
      " 6   cast                  10790 non-null  object \n",
      " 7   homepage              2936 non-null   object \n",
      " 8   director              10822 non-null  object \n",
      " 9   tagline               8042 non-null   object \n",
      " 10  keywords              9373 non-null   object \n",
      " 11  overview              10862 non-null  object \n",
      " 12  runtime               10866 non-null  int64  \n",
      " 13  genres                10843 non-null  object \n",
      " 14  production_companies  9836 non-null   object \n",
      " 15  release_date          10866 non-null  object \n",
      " 16  vote_count            10866 non-null  int64  \n",
      " 17  vote_average          10866 non-null  float64\n",
      " 18  release_year          10866 non-null  int64  \n",
      " 19  budget_adj            10866 non-null  float64\n",
      " 20  revenue_adj           10866 non-null  float64\n",
      "dtypes: float64(4), int64(6), object(11)\n",
      "memory usage: 1.7+ MB\n"
     ]
    }
   ],
   "source": [
    "df_movies.info()"
   ]
  },
  {
   "cell_type": "markdown",
   "metadata": {},
   "source": [
    "# Data Cleaning\n",
    "\n",
    "Tasks:\n",
    "\n",
    "- Drop unnecessary columns.\n",
    "- Check data types - do any need to be changed? <li><a href=\"#datatypes\">Skip to Datatypes</a></li>\n",
    "- Decide what to do with zero values. <li><a href=\"#zeroes\">Skip to Zero Values</a></li>\n",
    "- Fill or drop NULL values. <li><a href=\"#nulls\">Skip to NULL and Missing Values</a></li>\n",
    "- Check for duplicates, drop if present. <li><a href=\"#duplicates\">Skip to Duplicates</a></li>\n",
    "\n",
    "<a href=\"#intro\">Return to top</a>\n"
   ]
  },
  {
   "cell_type": "markdown",
   "metadata": {},
   "source": [
    "Let's take another look at the questions we want to explore to decide which columns we can safely remove.\n",
    "\n",
    "The questions we're going to explore:\n",
    "- Are movies with higher budgets more popular?\n",
    "- Do more popular movies have higher revenue?\n",
    "- Do movies with higher budgets have higher revenue?\n",
    "- Are runtime and popularity correlated?\n",
    "- Do movies with longer runtimes have higher revenue?\n",
    "- Which movies have the highest revenue (top 10)? Who directed them?\n",
    "- Which movies are the most popular (top 10)? Who directed them?\n",
    "- How many movies are there per year?\n",
    "- How many movies are in each genre?\n"
   ]
  },
  {
   "cell_type": "code",
   "execution_count": 316,
   "metadata": {},
   "outputs": [],
   "source": [
    "#Let's remove the extra columns we know we won't be using for our exploratory analysis.\n",
    "df_movies.drop(['imdb_id','cast','homepage','tagline','keywords','overview','production_companies',], axis=1, inplace=True)"
   ]
  },
  {
   "cell_type": "code",
   "execution_count": 317,
   "metadata": {},
   "outputs": [
    {
     "data": {
      "text/html": [
       "<div>\n",
       "<style scoped>\n",
       "    .dataframe tbody tr th:only-of-type {\n",
       "        vertical-align: middle;\n",
       "    }\n",
       "\n",
       "    .dataframe tbody tr th {\n",
       "        vertical-align: top;\n",
       "    }\n",
       "\n",
       "    .dataframe thead th {\n",
       "        text-align: right;\n",
       "    }\n",
       "</style>\n",
       "<table border=\"1\" class=\"dataframe\">\n",
       "  <thead>\n",
       "    <tr style=\"text-align: right;\">\n",
       "      <th></th>\n",
       "      <th>id</th>\n",
       "      <th>popularity</th>\n",
       "      <th>budget</th>\n",
       "      <th>revenue</th>\n",
       "      <th>original_title</th>\n",
       "      <th>director</th>\n",
       "      <th>runtime</th>\n",
       "      <th>genres</th>\n",
       "      <th>release_date</th>\n",
       "      <th>vote_count</th>\n",
       "      <th>vote_average</th>\n",
       "      <th>release_year</th>\n",
       "      <th>budget_adj</th>\n",
       "      <th>revenue_adj</th>\n",
       "    </tr>\n",
       "  </thead>\n",
       "  <tbody>\n",
       "    <tr>\n",
       "      <th>0</th>\n",
       "      <td>135397</td>\n",
       "      <td>32.985763</td>\n",
       "      <td>150000000</td>\n",
       "      <td>1513528810</td>\n",
       "      <td>Jurassic World</td>\n",
       "      <td>Colin Trevorrow</td>\n",
       "      <td>124</td>\n",
       "      <td>Action|Adventure|Science Fiction|Thriller</td>\n",
       "      <td>6/9/15</td>\n",
       "      <td>5562</td>\n",
       "      <td>6.5</td>\n",
       "      <td>2015</td>\n",
       "      <td>1.379999e+08</td>\n",
       "      <td>1.392446e+09</td>\n",
       "    </tr>\n",
       "    <tr>\n",
       "      <th>1</th>\n",
       "      <td>76341</td>\n",
       "      <td>28.419936</td>\n",
       "      <td>150000000</td>\n",
       "      <td>378436354</td>\n",
       "      <td>Mad Max: Fury Road</td>\n",
       "      <td>George Miller</td>\n",
       "      <td>120</td>\n",
       "      <td>Action|Adventure|Science Fiction|Thriller</td>\n",
       "      <td>5/13/15</td>\n",
       "      <td>6185</td>\n",
       "      <td>7.1</td>\n",
       "      <td>2015</td>\n",
       "      <td>1.379999e+08</td>\n",
       "      <td>3.481613e+08</td>\n",
       "    </tr>\n",
       "    <tr>\n",
       "      <th>2</th>\n",
       "      <td>262500</td>\n",
       "      <td>13.112507</td>\n",
       "      <td>110000000</td>\n",
       "      <td>295238201</td>\n",
       "      <td>Insurgent</td>\n",
       "      <td>Robert Schwentke</td>\n",
       "      <td>119</td>\n",
       "      <td>Adventure|Science Fiction|Thriller</td>\n",
       "      <td>3/18/15</td>\n",
       "      <td>2480</td>\n",
       "      <td>6.3</td>\n",
       "      <td>2015</td>\n",
       "      <td>1.012000e+08</td>\n",
       "      <td>2.716190e+08</td>\n",
       "    </tr>\n",
       "    <tr>\n",
       "      <th>3</th>\n",
       "      <td>140607</td>\n",
       "      <td>11.173104</td>\n",
       "      <td>200000000</td>\n",
       "      <td>2068178225</td>\n",
       "      <td>Star Wars: The Force Awakens</td>\n",
       "      <td>J.J. Abrams</td>\n",
       "      <td>136</td>\n",
       "      <td>Action|Adventure|Science Fiction|Fantasy</td>\n",
       "      <td>12/15/15</td>\n",
       "      <td>5292</td>\n",
       "      <td>7.5</td>\n",
       "      <td>2015</td>\n",
       "      <td>1.839999e+08</td>\n",
       "      <td>1.902723e+09</td>\n",
       "    </tr>\n",
       "    <tr>\n",
       "      <th>4</th>\n",
       "      <td>168259</td>\n",
       "      <td>9.335014</td>\n",
       "      <td>190000000</td>\n",
       "      <td>1506249360</td>\n",
       "      <td>Furious 7</td>\n",
       "      <td>James Wan</td>\n",
       "      <td>137</td>\n",
       "      <td>Action|Crime|Thriller</td>\n",
       "      <td>4/1/15</td>\n",
       "      <td>2947</td>\n",
       "      <td>7.3</td>\n",
       "      <td>2015</td>\n",
       "      <td>1.747999e+08</td>\n",
       "      <td>1.385749e+09</td>\n",
       "    </tr>\n",
       "  </tbody>\n",
       "</table>\n",
       "</div>"
      ],
      "text/plain": [
       "       id  popularity     budget     revenue                original_title  \\\n",
       "0  135397   32.985763  150000000  1513528810                Jurassic World   \n",
       "1   76341   28.419936  150000000   378436354            Mad Max: Fury Road   \n",
       "2  262500   13.112507  110000000   295238201                     Insurgent   \n",
       "3  140607   11.173104  200000000  2068178225  Star Wars: The Force Awakens   \n",
       "4  168259    9.335014  190000000  1506249360                     Furious 7   \n",
       "\n",
       "           director  runtime                                     genres  \\\n",
       "0   Colin Trevorrow      124  Action|Adventure|Science Fiction|Thriller   \n",
       "1     George Miller      120  Action|Adventure|Science Fiction|Thriller   \n",
       "2  Robert Schwentke      119         Adventure|Science Fiction|Thriller   \n",
       "3       J.J. Abrams      136   Action|Adventure|Science Fiction|Fantasy   \n",
       "4         James Wan      137                      Action|Crime|Thriller   \n",
       "\n",
       "  release_date  vote_count  vote_average  release_year    budget_adj  \\\n",
       "0       6/9/15        5562           6.5          2015  1.379999e+08   \n",
       "1      5/13/15        6185           7.1          2015  1.379999e+08   \n",
       "2      3/18/15        2480           6.3          2015  1.012000e+08   \n",
       "3     12/15/15        5292           7.5          2015  1.839999e+08   \n",
       "4       4/1/15        2947           7.3          2015  1.747999e+08   \n",
       "\n",
       "    revenue_adj  \n",
       "0  1.392446e+09  \n",
       "1  3.481613e+08  \n",
       "2  2.716190e+08  \n",
       "3  1.902723e+09  \n",
       "4  1.385749e+09  "
      ]
     },
     "execution_count": 317,
     "metadata": {},
     "output_type": "execute_result"
    }
   ],
   "source": [
    "df_movies.head()"
   ]
  },
  {
   "cell_type": "code",
   "execution_count": 318,
   "metadata": {},
   "outputs": [
    {
     "data": {
      "image/png": "[encoded data removed]",
      "text/plain": [
       "<Figure size 1080x720 with 12 Axes>"
      ]
     },
     "metadata": {
      "needs_background": "light"
     },
     "output_type": "display_data"
    }
   ],
   "source": [
    "#Look at histograms before data cleaning\n",
    "\n",
    "df_movies.hist(figsize=(15,10));"
   ]
  },
  {
   "cell_type": "markdown",
   "metadata": {},
   "source": [
    "<a id='datatypes'></a>\n",
    "\n",
    "### Data Type Conversion\n",
    "This is what our dataset now looks like. Let's doublecheck the datatypes to see if we need to make any conversions."
   ]
  },
  {
   "cell_type": "code",
   "execution_count": 319,
   "metadata": {
    "scrolled": true
   },
   "outputs": [
    {
     "data": {
      "text/plain": [
       "id                  int64\n",
       "popularity        float64\n",
       "budget              int64\n",
       "revenue             int64\n",
       "original_title     object\n",
       "director           object\n",
       "runtime             int64\n",
       "genres             object\n",
       "release_date       object\n",
       "vote_count          int64\n",
       "vote_average      float64\n",
       "release_year        int64\n",
       "budget_adj        float64\n",
       "revenue_adj       float64\n",
       "dtype: object"
      ]
     },
     "execution_count": 319,
     "metadata": {},
     "output_type": "execute_result"
    }
   ],
   "source": [
    "df_movies.dtypes"
   ]
  },
  {
   "cell_type": "code",
   "execution_count": 320,
   "metadata": {},
   "outputs": [],
   "source": [
    "#Convert release_date to datetime data type. We can leave release_year as an int data type.\n",
    "\n",
    "df_movies['release_date'] = pd.to_datetime(df_movies['release_date'])\n"
   ]
  },
  {
   "cell_type": "code",
   "execution_count": 321,
   "metadata": {},
   "outputs": [
    {
     "data": {
      "text/plain": [
       "id                         int64\n",
       "popularity               float64\n",
       "budget                     int64\n",
       "revenue                    int64\n",
       "original_title            object\n",
       "director                  object\n",
       "runtime                    int64\n",
       "genres                    object\n",
       "release_date      datetime64[ns]\n",
       "vote_count                 int64\n",
       "vote_average             float64\n",
       "release_year               int64\n",
       "budget_adj               float64\n",
       "revenue_adj              float64\n",
       "dtype: object"
      ]
     },
     "execution_count": 321,
     "metadata": {},
     "output_type": "execute_result"
    }
   ],
   "source": [
    "#Double check data types of df_movies\n",
    "\n",
    "df_movies.dtypes"
   ]
  },
  {
   "cell_type": "markdown",
   "metadata": {},
   "source": [
    "We did it, release_date has been converted to a datetime data type!\n",
    "\n",
    "While the rest of the data types work for our exploratory purposes, we're going to convert budget_adj and revenue_adj from float to int data types. They should have the same data types as budget and revenue. Let's do that below!"
   ]
  },
  {
   "cell_type": "code",
   "execution_count": 322,
   "metadata": {},
   "outputs": [
    {
     "data": {
      "text/plain": [
       "id                         int64\n",
       "popularity               float64\n",
       "budget                     int64\n",
       "revenue                    int64\n",
       "original_title            object\n",
       "director                  object\n",
       "runtime                    int64\n",
       "genres                    object\n",
       "release_date      datetime64[ns]\n",
       "vote_count                 int64\n",
       "vote_average             float64\n",
       "release_year               int64\n",
       "budget_adj                 int64\n",
       "revenue_adj                int64\n",
       "dtype: object"
      ]
     },
     "execution_count": 322,
     "metadata": {},
     "output_type": "execute_result"
    }
   ],
   "source": [
    "#Convert budget_adj and revenue_adj from float to int data types\n",
    "df_movies['budget_adj'] = df_movies['budget_adj'].astype('int64')\n",
    "df_movies['revenue_adj'] = df_movies['revenue_adj'].astype('int64')\n",
    "\n",
    "#Check to make sure data types converted\n",
    "df_movies.dtypes"
   ]
  },
  {
   "cell_type": "markdown",
   "metadata": {},
   "source": [
    "We did it! All our data types are ready for further exploration. Now let's take a look at \"0\" values and null or missing values."
   ]
  },
  {
   "cell_type": "markdown",
   "metadata": {},
   "source": [
    "### Zero, null, and missing values"
   ]
  },
  {
   "cell_type": "markdown",
   "metadata": {},
   "source": [
    "<a id='zeroes'></a>\n",
    "\n",
    "#### Zero values\n",
    "\n",
    "Here we discover some trends based on the data as it is now. I noticed that some fields have \"0\"s, which I didn't account for in the previous version of this project. \n",
    "\n",
    "Since the purpose of this is to explore the available data, not to make any business decisions, we have a few options to handle this situation:\n",
    "- Drop all \"0\" values\n",
    "- Keep the \"0\" values, but account for them in calculations with \">0\" parameters.\n",
    "- Fill \"0\" values with the mean or median of the data. \n",
    "\n",
    "If we were to drop all the rows where \"0s\" were present, we would be losing thousands of records and valuable data for our exploration. We won't be choosing this option.\n",
    "\n",
    "Keeping the \"0\" values but accounting for them in calculations could work, but it still filters out valuable data that we're trying to explore.\n",
    "\n",
    "For our purposes, let's choose to fill them with the mean."
   ]
  },
  {
   "cell_type": "code",
   "execution_count": 323,
   "metadata": {
    "scrolled": false
   },
   "outputs": [
    {
     "name": "stdout",
     "output_type": "stream",
     "text": [
      "Count of \"0\" in id  is :  0\n",
      "Count of \"0\" in popularity  is :  0\n",
      "Count of \"0\" in budget  is :  5696\n",
      "Count of \"0\" in revenue  is :  6016\n",
      "Count of \"0\" in original_title  is :  0\n",
      "Count of \"0\" in director  is :  0\n",
      "Count of \"0\" in runtime  is :  31\n",
      "Count of \"0\" in genres  is :  0\n",
      "Count of \"0\" in release_date  is :  0\n",
      "Count of \"0\" in vote_count  is :  0\n",
      "Count of \"0\" in vote_average  is :  0\n",
      "Count of \"0\" in release_year  is :  0\n",
      "Count of \"0\" in budget_adj  is :  5698\n",
      "Count of \"0\" in revenue_adj  is :  6016\n"
     ]
    }
   ],
   "source": [
    "# Get the count of Zeros in each column \n",
    "\n",
    "for col in df_movies:\n",
    "    column = df_movies[col]\n",
    "    count = (column == 0).sum()\n",
    "    print('Count of \"0\" in', col, ' is : ', count) "
   ]
  },
  {
   "cell_type": "code",
   "execution_count": 324,
   "metadata": {
    "scrolled": true
   },
   "outputs": [
    {
     "data": {
      "text/plain": [
       "count    1.086600e+04\n",
       "mean     2.229255e+07\n",
       "std      2.801245e+07\n",
       "min      1.000000e+00\n",
       "25%      1.462570e+07\n",
       "50%      1.462570e+07\n",
       "75%      1.500000e+07\n",
       "max      4.250000e+08\n",
       "Name: budget, dtype: float64"
      ]
     },
     "execution_count": 324,
     "metadata": {},
     "output_type": "execute_result"
    }
   ],
   "source": [
    "df_movies['budget'] = df_movies['budget'].replace(0, df_movies['budget'].mean())\n",
    "\n",
    "df_movies['budget'].describe()"
   ]
  },
  {
   "cell_type": "code",
   "execution_count": 325,
   "metadata": {},
   "outputs": [
    {
     "data": {
      "text/plain": [
       "count    1.086600e+04\n",
       "mean     6.187164e+07\n",
       "std      1.110204e+08\n",
       "min      2.000000e+00\n",
       "25%      3.982332e+07\n",
       "50%      3.982332e+07\n",
       "75%      3.982332e+07\n",
       "max      2.781506e+09\n",
       "Name: revenue, dtype: float64"
      ]
     },
     "execution_count": 325,
     "metadata": {},
     "output_type": "execute_result"
    }
   ],
   "source": [
    "df_movies['revenue'] = df_movies['revenue'].replace(0, df_movies['revenue'].mean())\n",
    "\n",
    "df_movies['revenue'].describe()"
   ]
  },
  {
   "cell_type": "code",
   "execution_count": 326,
   "metadata": {},
   "outputs": [
    {
     "data": {
      "text/plain": [
       "count    1.086600e+04\n",
       "mean     2.675459e+07\n",
       "std      3.050659e+07\n",
       "min      1.000000e+00\n",
       "25%      1.755104e+07\n",
       "50%      1.755104e+07\n",
       "75%      2.085325e+07\n",
       "max      4.250000e+08\n",
       "Name: budget_adj, dtype: float64"
      ]
     },
     "execution_count": 326,
     "metadata": {},
     "output_type": "execute_result"
    }
   ],
   "source": [
    "df_movies['budget_adj'] = df_movies['budget_adj'].replace(0, df_movies['budget_adj'].mean())\n",
    "\n",
    "df_movies['budget_adj'].describe()"
   ]
  },
  {
   "cell_type": "code",
   "execution_count": 327,
   "metadata": {},
   "outputs": [
    {
     "data": {
      "text/plain": [
       "count    1.086600e+04\n",
       "mean     7.980243e+07\n",
       "std      1.365610e+08\n",
       "min      2.000000e+00\n",
       "25%      5.136436e+07\n",
       "50%      5.136436e+07\n",
       "75%      5.136436e+07\n",
       "max      2.827124e+09\n",
       "Name: revenue_adj, dtype: float64"
      ]
     },
     "execution_count": 327,
     "metadata": {},
     "output_type": "execute_result"
    }
   ],
   "source": [
    "df_movies['revenue_adj'] = df_movies['revenue_adj'].replace(0, df_movies['revenue_adj'].mean())\n",
    "\n",
    "df_movies['revenue_adj'].describe()"
   ]
  },
  {
   "cell_type": "markdown",
   "metadata": {},
   "source": [
    "We have successfully filled the \"0\" values in budget, revenue, budget_adj, and revenue_adj with their mean values. We will fill runtime \"0\" values with \"NaN\" after we drop other nulls. Let's take a look at nulls now."
   ]
  },
  {
   "cell_type": "markdown",
   "metadata": {},
   "source": [
    "<a id='nulls'></a>\n",
    "\n",
    "#### Null or missing values"
   ]
  },
  {
   "cell_type": "code",
   "execution_count": 328,
   "metadata": {},
   "outputs": [
    {
     "data": {
      "text/plain": [
       "id                 0\n",
       "popularity         0\n",
       "budget             0\n",
       "revenue            0\n",
       "original_title     0\n",
       "director          44\n",
       "runtime            0\n",
       "genres            23\n",
       "release_date       0\n",
       "vote_count         0\n",
       "vote_average       0\n",
       "release_year       0\n",
       "budget_adj         0\n",
       "revenue_adj        0\n",
       "dtype: int64"
      ]
     },
     "execution_count": 328,
     "metadata": {},
     "output_type": "execute_result"
    }
   ],
   "source": [
    "#Check for nulls, find how many and where they're located\n",
    "df_movies.isnull().sum()"
   ]
  },
  {
   "cell_type": "code",
   "execution_count": 329,
   "metadata": {},
   "outputs": [],
   "source": [
    "df_movies.dropna(inplace=True)"
   ]
  },
  {
   "cell_type": "markdown",
   "metadata": {},
   "source": [
    "Let's check our null values again to make sure they've been dropped."
   ]
  },
  {
   "cell_type": "code",
   "execution_count": 330,
   "metadata": {},
   "outputs": [
    {
     "data": {
      "text/plain": [
       "id                0\n",
       "popularity        0\n",
       "budget            0\n",
       "revenue           0\n",
       "original_title    0\n",
       "director          0\n",
       "runtime           0\n",
       "genres            0\n",
       "release_date      0\n",
       "vote_count        0\n",
       "vote_average      0\n",
       "release_year      0\n",
       "budget_adj        0\n",
       "revenue_adj       0\n",
       "dtype: int64"
      ]
     },
     "execution_count": 330,
     "metadata": {},
     "output_type": "execute_result"
    }
   ],
   "source": [
    "df_movies.isnull().sum()"
   ]
  },
  {
   "cell_type": "markdown",
   "metadata": {},
   "source": [
    "Success! We've dropped null values. Runtime also had values of \"0\", however we are going to fill these in with NaN. We are not going to drop these, so they weren't included above. We'll use the same .replace() function to accomplish this."
   ]
  },
  {
   "cell_type": "code",
   "execution_count": 331,
   "metadata": {},
   "outputs": [
    {
     "data": {
      "text/plain": [
       "count    10773.000000\n",
       "mean       102.454377\n",
       "std         30.377912\n",
       "min          2.000000\n",
       "25%         90.000000\n",
       "50%         99.000000\n",
       "75%        112.000000\n",
       "max        900.000000\n",
       "Name: runtime, dtype: float64"
      ]
     },
     "execution_count": 331,
     "metadata": {},
     "output_type": "execute_result"
    }
   ],
   "source": [
    "df_movies['runtime'] = df_movies['runtime'].replace(0, np.NaN)\n",
    "\n",
    "df_movies['runtime'].describe()"
   ]
  },
  {
   "cell_type": "markdown",
   "metadata": {},
   "source": [
    "Now we're going to save our data in a new file called 'tmdb_movies_v2.csv' with the variable df_movies_v1. After that, we'll check for duplicates."
   ]
  },
  {
   "cell_type": "code",
   "execution_count": 332,
   "metadata": {},
   "outputs": [],
   "source": [
    "df_movies.to_csv('tmdb_movies_v2.csv', index=False)"
   ]
  },
  {
   "cell_type": "markdown",
   "metadata": {},
   "source": [
    "<a id='duplicates'></a>\n",
    "\n",
    "#### Duplicates"
   ]
  },
  {
   "cell_type": "code",
   "execution_count": 333,
   "metadata": {},
   "outputs": [],
   "source": [
    "df_movies_v2 = pd.read_csv('tmdb_movies_v2.csv')"
   ]
  },
  {
   "cell_type": "code",
   "execution_count": 334,
   "metadata": {
    "scrolled": true
   },
   "outputs": [
    {
     "data": {
      "text/html": [
       "<div>\n",
       "<style scoped>\n",
       "    .dataframe tbody tr th:only-of-type {\n",
       "        vertical-align: middle;\n",
       "    }\n",
       "\n",
       "    .dataframe tbody tr th {\n",
       "        vertical-align: top;\n",
       "    }\n",
       "\n",
       "    .dataframe thead th {\n",
       "        text-align: right;\n",
       "    }\n",
       "</style>\n",
       "<table border=\"1\" class=\"dataframe\">\n",
       "  <thead>\n",
       "    <tr style=\"text-align: right;\">\n",
       "      <th></th>\n",
       "      <th>id</th>\n",
       "      <th>popularity</th>\n",
       "      <th>budget</th>\n",
       "      <th>revenue</th>\n",
       "      <th>original_title</th>\n",
       "      <th>director</th>\n",
       "      <th>runtime</th>\n",
       "      <th>genres</th>\n",
       "      <th>release_date</th>\n",
       "      <th>vote_count</th>\n",
       "      <th>vote_average</th>\n",
       "      <th>release_year</th>\n",
       "      <th>budget_adj</th>\n",
       "      <th>revenue_adj</th>\n",
       "    </tr>\n",
       "  </thead>\n",
       "  <tbody>\n",
       "    <tr>\n",
       "      <th>0</th>\n",
       "      <td>135397</td>\n",
       "      <td>32.985763</td>\n",
       "      <td>150000000.0</td>\n",
       "      <td>1.513529e+09</td>\n",
       "      <td>Jurassic World</td>\n",
       "      <td>Colin Trevorrow</td>\n",
       "      <td>124.0</td>\n",
       "      <td>Action|Adventure|Science Fiction|Thriller</td>\n",
       "      <td>2015-06-09</td>\n",
       "      <td>5562</td>\n",
       "      <td>6.5</td>\n",
       "      <td>2015</td>\n",
       "      <td>137999939.0</td>\n",
       "      <td>1.392446e+09</td>\n",
       "    </tr>\n",
       "    <tr>\n",
       "      <th>1</th>\n",
       "      <td>76341</td>\n",
       "      <td>28.419936</td>\n",
       "      <td>150000000.0</td>\n",
       "      <td>3.784364e+08</td>\n",
       "      <td>Mad Max: Fury Road</td>\n",
       "      <td>George Miller</td>\n",
       "      <td>120.0</td>\n",
       "      <td>Action|Adventure|Science Fiction|Thriller</td>\n",
       "      <td>2015-05-13</td>\n",
       "      <td>6185</td>\n",
       "      <td>7.1</td>\n",
       "      <td>2015</td>\n",
       "      <td>137999939.0</td>\n",
       "      <td>3.481613e+08</td>\n",
       "    </tr>\n",
       "    <tr>\n",
       "      <th>2</th>\n",
       "      <td>262500</td>\n",
       "      <td>13.112507</td>\n",
       "      <td>110000000.0</td>\n",
       "      <td>2.952382e+08</td>\n",
       "      <td>Insurgent</td>\n",
       "      <td>Robert Schwentke</td>\n",
       "      <td>119.0</td>\n",
       "      <td>Adventure|Science Fiction|Thriller</td>\n",
       "      <td>2015-03-18</td>\n",
       "      <td>2480</td>\n",
       "      <td>6.3</td>\n",
       "      <td>2015</td>\n",
       "      <td>101199955.0</td>\n",
       "      <td>2.716190e+08</td>\n",
       "    </tr>\n",
       "    <tr>\n",
       "      <th>3</th>\n",
       "      <td>140607</td>\n",
       "      <td>11.173104</td>\n",
       "      <td>200000000.0</td>\n",
       "      <td>2.068178e+09</td>\n",
       "      <td>Star Wars: The Force Awakens</td>\n",
       "      <td>J.J. Abrams</td>\n",
       "      <td>136.0</td>\n",
       "      <td>Action|Adventure|Science Fiction|Fantasy</td>\n",
       "      <td>2015-12-15</td>\n",
       "      <td>5292</td>\n",
       "      <td>7.5</td>\n",
       "      <td>2015</td>\n",
       "      <td>183999919.0</td>\n",
       "      <td>1.902723e+09</td>\n",
       "    </tr>\n",
       "    <tr>\n",
       "      <th>4</th>\n",
       "      <td>168259</td>\n",
       "      <td>9.335014</td>\n",
       "      <td>190000000.0</td>\n",
       "      <td>1.506249e+09</td>\n",
       "      <td>Furious 7</td>\n",
       "      <td>James Wan</td>\n",
       "      <td>137.0</td>\n",
       "      <td>Action|Crime|Thriller</td>\n",
       "      <td>2015-04-01</td>\n",
       "      <td>2947</td>\n",
       "      <td>7.3</td>\n",
       "      <td>2015</td>\n",
       "      <td>174799923.0</td>\n",
       "      <td>1.385749e+09</td>\n",
       "    </tr>\n",
       "  </tbody>\n",
       "</table>\n",
       "</div>"
      ],
      "text/plain": [
       "       id  popularity       budget       revenue  \\\n",
       "0  135397   32.985763  150000000.0  1.513529e+09   \n",
       "1   76341   28.419936  150000000.0  3.784364e+08   \n",
       "2  262500   13.112507  110000000.0  2.952382e+08   \n",
       "3  140607   11.173104  200000000.0  2.068178e+09   \n",
       "4  168259    9.335014  190000000.0  1.506249e+09   \n",
       "\n",
       "                 original_title          director  runtime  \\\n",
       "0                Jurassic World   Colin Trevorrow    124.0   \n",
       "1            Mad Max: Fury Road     George Miller    120.0   \n",
       "2                     Insurgent  Robert Schwentke    119.0   \n",
       "3  Star Wars: The Force Awakens       J.J. Abrams    136.0   \n",
       "4                     Furious 7         James Wan    137.0   \n",
       "\n",
       "                                      genres release_date  vote_count  \\\n",
       "0  Action|Adventure|Science Fiction|Thriller   2015-06-09        5562   \n",
       "1  Action|Adventure|Science Fiction|Thriller   2015-05-13        6185   \n",
       "2         Adventure|Science Fiction|Thriller   2015-03-18        2480   \n",
       "3   Action|Adventure|Science Fiction|Fantasy   2015-12-15        5292   \n",
       "4                      Action|Crime|Thriller   2015-04-01        2947   \n",
       "\n",
       "   vote_average  release_year   budget_adj   revenue_adj  \n",
       "0           6.5          2015  137999939.0  1.392446e+09  \n",
       "1           7.1          2015  137999939.0  3.481613e+08  \n",
       "2           6.3          2015  101199955.0  2.716190e+08  \n",
       "3           7.5          2015  183999919.0  1.902723e+09  \n",
       "4           7.3          2015  174799923.0  1.385749e+09  "
      ]
     },
     "execution_count": 334,
     "metadata": {},
     "output_type": "execute_result"
    }
   ],
   "source": [
    "df_movies_v2.head()"
   ]
  },
  {
   "cell_type": "code",
   "execution_count": 335,
   "metadata": {},
   "outputs": [
    {
     "data": {
      "text/plain": [
       "1"
      ]
     },
     "execution_count": 335,
     "metadata": {},
     "output_type": "execute_result"
    }
   ],
   "source": [
    "df_movies_v2.duplicated().sum()"
   ]
  },
  {
   "cell_type": "markdown",
   "metadata": {},
   "source": [
    "Looks like we have 1 duplicate. Let's drop it below."
   ]
  },
  {
   "cell_type": "code",
   "execution_count": 336,
   "metadata": {},
   "outputs": [],
   "source": [
    "#drop duplicate\n",
    "\n",
    "df_movies_v2.drop_duplicates(inplace=True)"
   ]
  },
  {
   "cell_type": "markdown",
   "metadata": {},
   "source": [
    "Let's save our clean data."
   ]
  },
  {
   "cell_type": "code",
   "execution_count": 337,
   "metadata": {},
   "outputs": [],
   "source": [
    "#Saving our clean data to df_movies_clean\n",
    "\n",
    "df_movies_v2.to_csv('tmdb_movies_clean.csv', index=False)"
   ]
  },
  {
   "cell_type": "code",
   "execution_count": 338,
   "metadata": {},
   "outputs": [],
   "source": [
    "#Load our clean data file\n",
    "\n",
    "df_movies_clean = pd.read_csv('tmdb_movies_clean.csv')"
   ]
  },
  {
   "cell_type": "markdown",
   "metadata": {},
   "source": [
    "\n",
    "<a id='eda'></a>\n",
    "## Exploratory Data Analysis\n",
    "\n",
    "Our questions: \n",
    "- Are movies with higher budgets more popular?\n",
    "- Do more popular movies have higher revenue?\n",
    "- Do movies with higher budgets have higher revenue?\n",
    "- Are runtime and popularity correlated?\n",
    "- Do movies with longer runtimes have higher revenue?\n",
    "- Which movies have the highest revenue (top 10)? Who directed them?\n",
    "- Which movies are the most popular (top 10)? Who directed them?\n",
    "- How many movies are there per year?\n",
    "- How many movies are in each genre?\n",
    "\n",
    "<li><a href=\"#functions\">Functions</a></li> \n",
    " - This section defines functions we use to reduce and simplify redundant code.\n",
    "<li><a href=\"#correlations\">Correlations</a></li>\n",
    " - This section explores correlations with all of our variables.\n",
    "<li><a href=\"#popularity\">Popularity</a></li>\n",
    " - This section explores and answers popularity related questions.\n",
    "<li><a href=\"#revenue\">Revenue</a></li>\n",
    " - This section explores and answers revenue related questions.\n",
    "<li><a href=\"#years\">Years</a></li>\n",
    "- This sections explores movies by year.\n",
    "<li><a href=\"#genres\">Genres</a></li>\n",
    "- This section explores number of movies by genre.\n",
    "\n",
    "<a href=\"#intro\">Return to top</a>\n"
   ]
  },
  {
   "cell_type": "markdown",
   "metadata": {},
   "source": [
    "<a id='functions'></a>\n",
    "\n",
    "#### Functions\n",
    "\n",
    "These are various functions we will use to explore our data."
   ]
  },
  {
   "cell_type": "code",
   "execution_count": 339,
   "metadata": {},
   "outputs": [],
   "source": [
    "#These visualizations use the Seaborn package. These are called pairplots, which show the distribution of each variable and their relationships.\n",
    "\n",
    "def popbudgrev_func(col):\n",
    "    pop_budg_rev_list = df_movies_clean.columns[1:4]\n",
    "    sns.pairplot(df_movies_clean[pop_budg_rev_list], hue=col, height=3.5);\n",
    "   "
   ]
  },
  {
   "cell_type": "code",
   "execution_count": 340,
   "metadata": {},
   "outputs": [],
   "source": [
    "#Creates a \"Top 10\" Barplot, grouped by Title.\n",
    "\n",
    "def top_10_barplot(col):\n",
    "    temp_df = pd.DataFrame(df_movies_clean.groupby('original_title').sum()[col].nlargest(10))\n",
    "    temp_df = temp_df.reset_index()\n",
    "    sns.barplot(x=col, y='original_title', data=temp_df);\n",
    "    plt.title('Top 10 Movies by '+col);"
   ]
  },
  {
   "cell_type": "code",
   "execution_count": 341,
   "metadata": {},
   "outputs": [],
   "source": [
    "#Creates a \"Top 10\" Barplot, grouped by Director.\n",
    "\n",
    "def director_barplot(col):\n",
    "    temp_df = pd.DataFrame(df_movies_clean.groupby('director').sum()[col].nlargest(10))\n",
    "    temp_df = temp_df.reset_index()\n",
    "    sns.barplot(x=col, y='director', data=temp_df);\n",
    "    plt.title('Top 10 Directors by '+col)"
   ]
  },
  {
   "cell_type": "code",
   "execution_count": 342,
   "metadata": {},
   "outputs": [],
   "source": [
    "#This function is used to split columns with \"|\" as a delimeter and count the values. \n",
    "#Reference: https://github.com/hima888/Investigate-a-Dataset-TMDB-Movie-Data-/blob/master/investigate-a-dataset-template.ipynb\n",
    "def split_count(x):\n",
    "    data_plot = df_movies_clean[x].str.cat(sep = '|')\n",
    "    data = pd.Series(data_plot.split('|'))\n",
    "    info = data.value_counts(ascending=False)\n",
    "    return info"
   ]
  },
  {
   "cell_type": "markdown",
   "metadata": {},
   "source": [
    "<a id='correlations'></a>\n",
    "\n",
    "### Explore Correlations"
   ]
  },
  {
   "cell_type": "code",
   "execution_count": 343,
   "metadata": {
    "scrolled": false
   },
   "outputs": [
    {
     "data": {
      "text/html": [
       "<div>\n",
       "<style scoped>\n",
       "    .dataframe tbody tr th:only-of-type {\n",
       "        vertical-align: middle;\n",
       "    }\n",
       "\n",
       "    .dataframe tbody tr th {\n",
       "        vertical-align: top;\n",
       "    }\n",
       "\n",
       "    .dataframe thead th {\n",
       "        text-align: right;\n",
       "    }\n",
       "</style>\n",
       "<table border=\"1\" class=\"dataframe\">\n",
       "  <thead>\n",
       "    <tr style=\"text-align: right;\">\n",
       "      <th></th>\n",
       "      <th>id</th>\n",
       "      <th>popularity</th>\n",
       "      <th>budget</th>\n",
       "      <th>revenue</th>\n",
       "      <th>runtime</th>\n",
       "      <th>vote_count</th>\n",
       "      <th>vote_average</th>\n",
       "      <th>release_year</th>\n",
       "      <th>budget_adj</th>\n",
       "      <th>revenue_adj</th>\n",
       "    </tr>\n",
       "  </thead>\n",
       "  <tbody>\n",
       "    <tr>\n",
       "      <th>id</th>\n",
       "      <td>1.000000</td>\n",
       "      <td>-0.011772</td>\n",
       "      <td>-0.099752</td>\n",
       "      <td>-0.066678</td>\n",
       "      <td>-0.075338</td>\n",
       "      <td>-0.033965</td>\n",
       "      <td>-0.064347</td>\n",
       "      <td>0.511214</td>\n",
       "      <td>-0.150778</td>\n",
       "      <td>-0.107197</td>\n",
       "    </tr>\n",
       "    <tr>\n",
       "      <th>popularity</th>\n",
       "      <td>-0.011772</td>\n",
       "      <td>1.000000</td>\n",
       "      <td>0.515705</td>\n",
       "      <td>0.635266</td>\n",
       "      <td>0.138651</td>\n",
       "      <td>0.800710</td>\n",
       "      <td>0.213046</td>\n",
       "      <td>0.091352</td>\n",
       "      <td>0.482373</td>\n",
       "      <td>0.578065</td>\n",
       "    </tr>\n",
       "    <tr>\n",
       "      <th>budget</th>\n",
       "      <td>-0.099752</td>\n",
       "      <td>0.515705</td>\n",
       "      <td>1.000000</td>\n",
       "      <td>0.705397</td>\n",
       "      <td>0.173983</td>\n",
       "      <td>0.615485</td>\n",
       "      <td>0.075807</td>\n",
       "      <td>0.130335</td>\n",
       "      <td>0.962350</td>\n",
       "      <td>0.573418</td>\n",
       "    </tr>\n",
       "    <tr>\n",
       "      <th>revenue</th>\n",
       "      <td>-0.066678</td>\n",
       "      <td>0.635266</td>\n",
       "      <td>0.705397</td>\n",
       "      <td>1.000000</td>\n",
       "      <td>0.144379</td>\n",
       "      <td>0.772899</td>\n",
       "      <td>0.153757</td>\n",
       "      <td>0.065857</td>\n",
       "      <td>0.674343</td>\n",
       "      <td>0.909803</td>\n",
       "    </tr>\n",
       "    <tr>\n",
       "      <th>runtime</th>\n",
       "      <td>-0.075338</td>\n",
       "      <td>0.138651</td>\n",
       "      <td>0.173983</td>\n",
       "      <td>0.144379</td>\n",
       "      <td>1.000000</td>\n",
       "      <td>0.165169</td>\n",
       "      <td>0.162703</td>\n",
       "      <td>-0.112649</td>\n",
       "      <td>0.208347</td>\n",
       "      <td>0.157739</td>\n",
       "    </tr>\n",
       "    <tr>\n",
       "      <th>vote_count</th>\n",
       "      <td>-0.033965</td>\n",
       "      <td>0.800710</td>\n",
       "      <td>0.615485</td>\n",
       "      <td>0.772899</td>\n",
       "      <td>0.165169</td>\n",
       "      <td>1.000000</td>\n",
       "      <td>0.256772</td>\n",
       "      <td>0.109144</td>\n",
       "      <td>0.568928</td>\n",
       "      <td>0.685859</td>\n",
       "    </tr>\n",
       "    <tr>\n",
       "      <th>vote_average</th>\n",
       "      <td>-0.064347</td>\n",
       "      <td>0.213046</td>\n",
       "      <td>0.075807</td>\n",
       "      <td>0.153757</td>\n",
       "      <td>0.162703</td>\n",
       "      <td>0.256772</td>\n",
       "      <td>1.000000</td>\n",
       "      <td>-0.122493</td>\n",
       "      <td>0.089528</td>\n",
       "      <td>0.175104</td>\n",
       "    </tr>\n",
       "    <tr>\n",
       "      <th>release_year</th>\n",
       "      <td>0.511214</td>\n",
       "      <td>0.091352</td>\n",
       "      <td>0.130335</td>\n",
       "      <td>0.065857</td>\n",
       "      <td>-0.112649</td>\n",
       "      <td>0.109144</td>\n",
       "      <td>-0.122493</td>\n",
       "      <td>1.000000</td>\n",
       "      <td>0.021292</td>\n",
       "      <td>-0.064515</td>\n",
       "    </tr>\n",
       "    <tr>\n",
       "      <th>budget_adj</th>\n",
       "      <td>-0.150778</td>\n",
       "      <td>0.482373</td>\n",
       "      <td>0.962350</td>\n",
       "      <td>0.674343</td>\n",
       "      <td>0.208347</td>\n",
       "      <td>0.568928</td>\n",
       "      <td>0.089528</td>\n",
       "      <td>0.021292</td>\n",
       "      <td>1.000000</td>\n",
       "      <td>0.602011</td>\n",
       "    </tr>\n",
       "    <tr>\n",
       "      <th>revenue_adj</th>\n",
       "      <td>-0.107197</td>\n",
       "      <td>0.578065</td>\n",
       "      <td>0.573418</td>\n",
       "      <td>0.909803</td>\n",
       "      <td>0.157739</td>\n",
       "      <td>0.685859</td>\n",
       "      <td>0.175104</td>\n",
       "      <td>-0.064515</td>\n",
       "      <td>0.602011</td>\n",
       "      <td>1.000000</td>\n",
       "    </tr>\n",
       "  </tbody>\n",
       "</table>\n",
       "</div>"
      ],
      "text/plain": [
       "                    id  popularity    budget   revenue   runtime  vote_count  \\\n",
       "id            1.000000   -0.011772 -0.099752 -0.066678 -0.075338   -0.033965   \n",
       "popularity   -0.011772    1.000000  0.515705  0.635266  0.138651    0.800710   \n",
       "budget       -0.099752    0.515705  1.000000  0.705397  0.173983    0.615485   \n",
       "revenue      -0.066678    0.635266  0.705397  1.000000  0.144379    0.772899   \n",
       "runtime      -0.075338    0.138651  0.173983  0.144379  1.000000    0.165169   \n",
       "vote_count   -0.033965    0.800710  0.615485  0.772899  0.165169    1.000000   \n",
       "vote_average -0.064347    0.213046  0.075807  0.153757  0.162703    0.256772   \n",
       "release_year  0.511214    0.091352  0.130335  0.065857 -0.112649    0.109144   \n",
       "budget_adj   -0.150778    0.482373  0.962350  0.674343  0.208347    0.568928   \n",
       "revenue_adj  -0.107197    0.578065  0.573418  0.909803  0.157739    0.685859   \n",
       "\n",
       "              vote_average  release_year  budget_adj  revenue_adj  \n",
       "id               -0.064347      0.511214   -0.150778    -0.107197  \n",
       "popularity        0.213046      0.091352    0.482373     0.578065  \n",
       "budget            0.075807      0.130335    0.962350     0.573418  \n",
       "revenue           0.153757      0.065857    0.674343     0.909803  \n",
       "runtime           0.162703     -0.112649    0.208347     0.157739  \n",
       "vote_count        0.256772      0.109144    0.568928     0.685859  \n",
       "vote_average      1.000000     -0.122493    0.089528     0.175104  \n",
       "release_year     -0.122493      1.000000    0.021292    -0.064515  \n",
       "budget_adj        0.089528      0.021292    1.000000     0.602011  \n",
       "revenue_adj       0.175104     -0.064515    0.602011     1.000000  "
      ]
     },
     "execution_count": 343,
     "metadata": {},
     "output_type": "execute_result"
    }
   ],
   "source": [
    "#This is a correlation matrix between all columns/variables. The closer to 1, the higher the correlation.\n",
    "df_movies_clean.corr(method='pearson')"
   ]
  },
  {
   "cell_type": "markdown",
   "metadata": {},
   "source": [
    "We can see in this correlation matrix that budget and budget_adj/revenue and revenue_adj are highly correlated values. What else is highly correlated? Let's take a look with a visual heatmap of the above correlation matrix."
   ]
  },
  {
   "cell_type": "code",
   "execution_count": 344,
   "metadata": {},
   "outputs": [
    {
     "data": {
      "image/png": "[encoded data removed]",
      "text/plain": [
       "<Figure size 432x288 with 2 Axes>"
      ]
     },
     "metadata": {
      "needs_background": "light"
     },
     "output_type": "display_data"
    }
   ],
   "source": [
    "#Here we create a visualization of the correlation matrix. The lighter the color, the higher the correlation. As you can see, the columns/variables that are the lightest are correlated to themselves.\n",
    "correlation_matrix = df_movies_clean.corr(method='pearson')\n",
    "\n",
    "sns.heatmap(correlation_matrix, annot=True)\n",
    "\n",
    "plt.show()"
   ]
  },
  {
   "cell_type": "markdown",
   "metadata": {},
   "source": [
    "Budget and Revenue have a relatively higher correlation than others at 0.71, as do their inflation adjusted counterparts (budget_adj and revenue_adj) at 0.6. \n",
    "\n",
    "Popularity and vote_count have a high correlation of 0.8, which makes sense since vote_count is a metric to determine popularity. One surprising correlation is vote_count to both budget (0.62) and revenue (0.77), also budget_adj (0.57) and revenue_adj (0.69).\n",
    "\n",
    "Popularity and both budget (0.52) and revenue (0.64) seem to have a medium correlation, with budget_adj (0.48) and revenue_adj (0.58). We'll explore these further."
   ]
  },
  {
   "cell_type": "markdown",
   "metadata": {},
   "source": [
    "<a id='popularity'></a>\n",
    "\n",
    "### Which factors influence a movie's popularity?"
   ]
  },
  {
   "cell_type": "markdown",
   "metadata": {},
   "source": [
    "Let's start out by taking a look at the Top 10 Movies by popularity."
   ]
  },
  {
   "cell_type": "code",
   "execution_count": 345,
   "metadata": {},
   "outputs": [
    {
     "data": {
      "text/html": [
       "<div>\n",
       "<style scoped>\n",
       "    .dataframe tbody tr th:only-of-type {\n",
       "        vertical-align: middle;\n",
       "    }\n",
       "\n",
       "    .dataframe tbody tr th {\n",
       "        vertical-align: top;\n",
       "    }\n",
       "\n",
       "    .dataframe thead th {\n",
       "        text-align: right;\n",
       "    }\n",
       "</style>\n",
       "<table border=\"1\" class=\"dataframe\">\n",
       "  <thead>\n",
       "    <tr style=\"text-align: right;\">\n",
       "      <th></th>\n",
       "      <th>id</th>\n",
       "      <th>popularity</th>\n",
       "      <th>budget</th>\n",
       "      <th>revenue</th>\n",
       "      <th>original_title</th>\n",
       "      <th>director</th>\n",
       "      <th>runtime</th>\n",
       "      <th>genres</th>\n",
       "      <th>release_date</th>\n",
       "      <th>vote_count</th>\n",
       "      <th>vote_average</th>\n",
       "      <th>release_year</th>\n",
       "      <th>budget_adj</th>\n",
       "      <th>revenue_adj</th>\n",
       "    </tr>\n",
       "  </thead>\n",
       "  <tbody>\n",
       "    <tr>\n",
       "      <th>0</th>\n",
       "      <td>135397</td>\n",
       "      <td>32.985763</td>\n",
       "      <td>150000000.0</td>\n",
       "      <td>1.513529e+09</td>\n",
       "      <td>Jurassic World</td>\n",
       "      <td>Colin Trevorrow</td>\n",
       "      <td>124.0</td>\n",
       "      <td>Action|Adventure|Science Fiction|Thriller</td>\n",
       "      <td>2015-06-09</td>\n",
       "      <td>5562</td>\n",
       "      <td>6.5</td>\n",
       "      <td>2015</td>\n",
       "      <td>137999939.0</td>\n",
       "      <td>1.392446e+09</td>\n",
       "    </tr>\n",
       "    <tr>\n",
       "      <th>1</th>\n",
       "      <td>76341</td>\n",
       "      <td>28.419936</td>\n",
       "      <td>150000000.0</td>\n",
       "      <td>3.784364e+08</td>\n",
       "      <td>Mad Max: Fury Road</td>\n",
       "      <td>George Miller</td>\n",
       "      <td>120.0</td>\n",
       "      <td>Action|Adventure|Science Fiction|Thriller</td>\n",
       "      <td>2015-05-13</td>\n",
       "      <td>6185</td>\n",
       "      <td>7.1</td>\n",
       "      <td>2015</td>\n",
       "      <td>137999939.0</td>\n",
       "      <td>3.481613e+08</td>\n",
       "    </tr>\n",
       "    <tr>\n",
       "      <th>624</th>\n",
       "      <td>157336</td>\n",
       "      <td>24.949134</td>\n",
       "      <td>165000000.0</td>\n",
       "      <td>6.217525e+08</td>\n",
       "      <td>Interstellar</td>\n",
       "      <td>Christopher Nolan</td>\n",
       "      <td>169.0</td>\n",
       "      <td>Adventure|Drama|Science Fiction</td>\n",
       "      <td>2014-11-05</td>\n",
       "      <td>6498</td>\n",
       "      <td>8.0</td>\n",
       "      <td>2014</td>\n",
       "      <td>151980023.0</td>\n",
       "      <td>5.726906e+08</td>\n",
       "    </tr>\n",
       "    <tr>\n",
       "      <th>625</th>\n",
       "      <td>118340</td>\n",
       "      <td>14.311205</td>\n",
       "      <td>170000000.0</td>\n",
       "      <td>7.733124e+08</td>\n",
       "      <td>Guardians of the Galaxy</td>\n",
       "      <td>James Gunn</td>\n",
       "      <td>121.0</td>\n",
       "      <td>Action|Science Fiction|Adventure</td>\n",
       "      <td>2014-07-30</td>\n",
       "      <td>5612</td>\n",
       "      <td>7.9</td>\n",
       "      <td>2014</td>\n",
       "      <td>156585478.0</td>\n",
       "      <td>7.122911e+08</td>\n",
       "    </tr>\n",
       "    <tr>\n",
       "      <th>2</th>\n",
       "      <td>262500</td>\n",
       "      <td>13.112507</td>\n",
       "      <td>110000000.0</td>\n",
       "      <td>2.952382e+08</td>\n",
       "      <td>Insurgent</td>\n",
       "      <td>Robert Schwentke</td>\n",
       "      <td>119.0</td>\n",
       "      <td>Adventure|Science Fiction|Thriller</td>\n",
       "      <td>2015-03-18</td>\n",
       "      <td>2480</td>\n",
       "      <td>6.3</td>\n",
       "      <td>2015</td>\n",
       "      <td>101199955.0</td>\n",
       "      <td>2.716190e+08</td>\n",
       "    </tr>\n",
       "    <tr>\n",
       "      <th>626</th>\n",
       "      <td>100402</td>\n",
       "      <td>12.971027</td>\n",
       "      <td>170000000.0</td>\n",
       "      <td>7.147666e+08</td>\n",
       "      <td>Captain America: The Winter Soldier</td>\n",
       "      <td>Joe Russo|Anthony Russo</td>\n",
       "      <td>136.0</td>\n",
       "      <td>Action|Adventure|Science Fiction</td>\n",
       "      <td>2014-03-20</td>\n",
       "      <td>3848</td>\n",
       "      <td>7.6</td>\n",
       "      <td>2014</td>\n",
       "      <td>156585478.0</td>\n",
       "      <td>6.583651e+08</td>\n",
       "    </tr>\n",
       "    <tr>\n",
       "      <th>1318</th>\n",
       "      <td>11</td>\n",
       "      <td>12.037933</td>\n",
       "      <td>11000000.0</td>\n",
       "      <td>7.753980e+08</td>\n",
       "      <td>Star Wars</td>\n",
       "      <td>George Lucas</td>\n",
       "      <td>121.0</td>\n",
       "      <td>Adventure|Action|Science Fiction</td>\n",
       "      <td>1977-03-20</td>\n",
       "      <td>4428</td>\n",
       "      <td>7.9</td>\n",
       "      <td>1977</td>\n",
       "      <td>39575591.0</td>\n",
       "      <td>2.789712e+09</td>\n",
       "    </tr>\n",
       "    <tr>\n",
       "      <th>627</th>\n",
       "      <td>245891</td>\n",
       "      <td>11.422751</td>\n",
       "      <td>20000000.0</td>\n",
       "      <td>7.873990e+07</td>\n",
       "      <td>John Wick</td>\n",
       "      <td>Chad Stahelski|David Leitch</td>\n",
       "      <td>101.0</td>\n",
       "      <td>Action|Thriller</td>\n",
       "      <td>2014-10-22</td>\n",
       "      <td>2712</td>\n",
       "      <td>7.0</td>\n",
       "      <td>2014</td>\n",
       "      <td>18421821.0</td>\n",
       "      <td>7.252661e+07</td>\n",
       "    </tr>\n",
       "    <tr>\n",
       "      <th>3</th>\n",
       "      <td>140607</td>\n",
       "      <td>11.173104</td>\n",
       "      <td>200000000.0</td>\n",
       "      <td>2.068178e+09</td>\n",
       "      <td>Star Wars: The Force Awakens</td>\n",
       "      <td>J.J. Abrams</td>\n",
       "      <td>136.0</td>\n",
       "      <td>Action|Adventure|Science Fiction|Fantasy</td>\n",
       "      <td>2015-12-15</td>\n",
       "      <td>5292</td>\n",
       "      <td>7.5</td>\n",
       "      <td>2015</td>\n",
       "      <td>183999919.0</td>\n",
       "      <td>1.902723e+09</td>\n",
       "    </tr>\n",
       "    <tr>\n",
       "      <th>628</th>\n",
       "      <td>131631</td>\n",
       "      <td>10.739009</td>\n",
       "      <td>125000000.0</td>\n",
       "      <td>7.521002e+08</td>\n",
       "      <td>The Hunger Games: Mockingjay - Part 1</td>\n",
       "      <td>Francis Lawrence</td>\n",
       "      <td>123.0</td>\n",
       "      <td>Science Fiction|Adventure|Thriller</td>\n",
       "      <td>2014-11-18</td>\n",
       "      <td>3590</td>\n",
       "      <td>6.6</td>\n",
       "      <td>2014</td>\n",
       "      <td>115136381.0</td>\n",
       "      <td>6.927528e+08</td>\n",
       "    </tr>\n",
       "  </tbody>\n",
       "</table>\n",
       "</div>"
      ],
      "text/plain": [
       "          id  popularity       budget       revenue  \\\n",
       "0     135397   32.985763  150000000.0  1.513529e+09   \n",
       "1      76341   28.419936  150000000.0  3.784364e+08   \n",
       "624   157336   24.949134  165000000.0  6.217525e+08   \n",
       "625   118340   14.311205  170000000.0  7.733124e+08   \n",
       "2     262500   13.112507  110000000.0  2.952382e+08   \n",
       "626   100402   12.971027  170000000.0  7.147666e+08   \n",
       "1318      11   12.037933   11000000.0  7.753980e+08   \n",
       "627   245891   11.422751   20000000.0  7.873990e+07   \n",
       "3     140607   11.173104  200000000.0  2.068178e+09   \n",
       "628   131631   10.739009  125000000.0  7.521002e+08   \n",
       "\n",
       "                             original_title                     director  \\\n",
       "0                            Jurassic World              Colin Trevorrow   \n",
       "1                        Mad Max: Fury Road                George Miller   \n",
       "624                            Interstellar            Christopher Nolan   \n",
       "625                 Guardians of the Galaxy                   James Gunn   \n",
       "2                                 Insurgent             Robert Schwentke   \n",
       "626     Captain America: The Winter Soldier      Joe Russo|Anthony Russo   \n",
       "1318                              Star Wars                 George Lucas   \n",
       "627                               John Wick  Chad Stahelski|David Leitch   \n",
       "3              Star Wars: The Force Awakens                  J.J. Abrams   \n",
       "628   The Hunger Games: Mockingjay - Part 1             Francis Lawrence   \n",
       "\n",
       "      runtime                                     genres release_date  \\\n",
       "0       124.0  Action|Adventure|Science Fiction|Thriller   2015-06-09   \n",
       "1       120.0  Action|Adventure|Science Fiction|Thriller   2015-05-13   \n",
       "624     169.0            Adventure|Drama|Science Fiction   2014-11-05   \n",
       "625     121.0           Action|Science Fiction|Adventure   2014-07-30   \n",
       "2       119.0         Adventure|Science Fiction|Thriller   2015-03-18   \n",
       "626     136.0           Action|Adventure|Science Fiction   2014-03-20   \n",
       "1318    121.0           Adventure|Action|Science Fiction   1977-03-20   \n",
       "627     101.0                            Action|Thriller   2014-10-22   \n",
       "3       136.0   Action|Adventure|Science Fiction|Fantasy   2015-12-15   \n",
       "628     123.0         Science Fiction|Adventure|Thriller   2014-11-18   \n",
       "\n",
       "      vote_count  vote_average  release_year   budget_adj   revenue_adj  \n",
       "0           5562           6.5          2015  137999939.0  1.392446e+09  \n",
       "1           6185           7.1          2015  137999939.0  3.481613e+08  \n",
       "624         6498           8.0          2014  151980023.0  5.726906e+08  \n",
       "625         5612           7.9          2014  156585478.0  7.122911e+08  \n",
       "2           2480           6.3          2015  101199955.0  2.716190e+08  \n",
       "626         3848           7.6          2014  156585478.0  6.583651e+08  \n",
       "1318        4428           7.9          1977   39575591.0  2.789712e+09  \n",
       "627         2712           7.0          2014   18421821.0  7.252661e+07  \n",
       "3           5292           7.5          2015  183999919.0  1.902723e+09  \n",
       "628         3590           6.6          2014  115136381.0  6.927528e+08  "
      ]
     },
     "execution_count": 345,
     "metadata": {},
     "output_type": "execute_result"
    }
   ],
   "source": [
    "#filter for top 10 most popular with title and director\n",
    "\n",
    "df_movies_clean.nlargest(10,'popularity')"
   ]
  },
  {
   "cell_type": "code",
   "execution_count": 346,
   "metadata": {},
   "outputs": [
    {
     "data": {
      "image/png": "[encoded data removed]",
      "text/plain": [
       "<Figure size 432x288 with 1 Axes>"
      ]
     },
     "metadata": {
      "needs_background": "light"
     },
     "output_type": "display_data"
    }
   ],
   "source": [
    "#We will call our top_10_barplot function to visualize the top 10 movies by popularity.\n",
    "top_10_barplot('popularity')"
   ]
  },
  {
   "cell_type": "markdown",
   "metadata": {},
   "source": [
    "There doesn't appear to be a correlation between director and popularity. The most popular movie is Jurassic World. "
   ]
  },
  {
   "cell_type": "code",
   "execution_count": 347,
   "metadata": {},
   "outputs": [
    {
     "data": {
      "image/png": "[encoded data removed]",
      "text/plain": [
       "<Figure size 432x288 with 1 Axes>"
      ]
     },
     "metadata": {
      "needs_background": "light"
     },
     "output_type": "display_data"
    }
   ],
   "source": [
    "#Let's check the most popular directors with a barplot. We'll do this by calling the director_barplot function.\n",
    "\n",
    "director_barplot('popularity')"
   ]
  },
  {
   "cell_type": "markdown",
   "metadata": {},
   "source": [
    "Here we can see that the director associated with the most popularity is Christopher Nolan, followed by Steven Spielberg, and then Peter Jackson."
   ]
  },
  {
   "cell_type": "markdown",
   "metadata": {},
   "source": [
    "Let's now take a look at some other visualizations to see if budget, revenue, adjusted budget and revenue, and runtime have any correleation with popularity."
   ]
  },
  {
   "cell_type": "code",
   "execution_count": null,
   "metadata": {},
   "outputs": [],
   "source": [
    "#This calls our function to see how popularity, budget, and revenue relate to eachother with pairplots\n",
    "popbudgrev_func('popularity')"
   ]
  },
  {
   "cell_type": "markdown",
   "metadata": {},
   "source": [
    "It looks like there may be some correlation between popularity, revenue, and budget within certain ranges. Let's take a closer look."
   ]
  },
  {
   "cell_type": "code",
   "execution_count": null,
   "metadata": {},
   "outputs": [],
   "source": [
    "#We'll run a scatter plot with regression line to see the relationship between popularity and budget.\n",
    "ax = sns.regplot(x='budget', y='popularity', data=df_movies_clean, scatter_kws={'color': 'm','alpha':0.3}, line_kws={'color': 'red'});"
   ]
  },
  {
   "cell_type": "markdown",
   "metadata": {},
   "source": [
    "It looks like the biggest correlation is within budgets under $2M, with the most popular movies falling between 1.5M and 2M."
   ]
  },
  {
   "cell_type": "code",
   "execution_count": null,
   "metadata": {
    "scrolled": false
   },
   "outputs": [],
   "source": [
    "ax = sns.regplot(x='revenue', y='popularity', data=df_movies_clean, scatter_kws={'color': 'm','alpha':0.3}, line_kws={'color': 'red'});"
   ]
  },
  {
   "cell_type": "markdown",
   "metadata": {},
   "source": [
    "This looks like a similar correlation between popularity and budget, where movies earning .5M to 1.5M appear to have the most popular movies."
   ]
  },
  {
   "cell_type": "markdown",
   "metadata": {},
   "source": [
    "Now let's look at runtime."
   ]
  },
  {
   "cell_type": "code",
   "execution_count": null,
   "metadata": {},
   "outputs": [],
   "source": [
    "sns.scatterplot(data=df_movies_clean, x=\"runtime\", y=\"popularity\")\n",
    "plt.title('Runtime vs Popularity');"
   ]
  },
  {
   "cell_type": "markdown",
   "metadata": {},
   "source": [
    "The runtime scatterplot shows that movies between 1 and 3.5 hours tend to be more popular."
   ]
  },
  {
   "cell_type": "markdown",
   "metadata": {},
   "source": [
    "<a id='revenue'></a>\n",
    "\n",
    "\n",
    "### Which factors influence a movie's revenue?"
   ]
  },
  {
   "cell_type": "markdown",
   "metadata": {},
   "source": [
    "We can see that both revenue and revenue_adj are skewed to the right."
   ]
  },
  {
   "cell_type": "code",
   "execution_count": null,
   "metadata": {
    "scrolled": false
   },
   "outputs": [],
   "source": [
    "#filter for top 10 highest revenue with title and director\n",
    "\n",
    "df_movies_clean.nlargest(10,'revenue')"
   ]
  },
  {
   "cell_type": "markdown",
   "metadata": {},
   "source": [
    "Directors may have an influence on revenue. Both James Cameron and Joss Whedon appear twice in the top 10. Here, Avatar is the movie with highest revenue. Let's check again with the adjusted revenue."
   ]
  },
  {
   "cell_type": "code",
   "execution_count": null,
   "metadata": {
    "scrolled": true
   },
   "outputs": [],
   "source": [
    "#filter for top 10 highest revenue with title and director\n",
    "\n",
    "df_movies_clean.nlargest(10,'revenue_adj')"
   ]
  },
  {
   "cell_type": "markdown",
   "metadata": {},
   "source": [
    "Interesting! James Cameron still acounts for 2 of the top 10 highest earning movies, but now so does Steven Spielberg. Joss Whedon has 1 instead of 2. Avatar is still the movie with highest revenue. Directors may have an influence over revenue, but this analysis is inconclusive. *For my own curiosity, I did expand these queries to the top 25 and found similar results.*"
   ]
  },
  {
   "cell_type": "code",
   "execution_count": null,
   "metadata": {},
   "outputs": [],
   "source": [
    "#Let's see which directors have earned the most revenue over their careers.\n",
    "director_barplot('revenue')"
   ]
  },
  {
   "cell_type": "markdown",
   "metadata": {},
   "source": [
    "Wow! This is also interesting. We find that Steven Spielberg has earned the most revenue for his movies than any other director. "
   ]
  },
  {
   "cell_type": "code",
   "execution_count": null,
   "metadata": {},
   "outputs": [],
   "source": [
    "#Let's call our pairplot function to see the relationships between revenue, budget, and popularity\n",
    "popbudgrev_func('revenue')"
   ]
  },
  {
   "cell_type": "markdown",
   "metadata": {},
   "source": [
    "We've added plots with regression lines for Revenue vs Popularity and Revenue vs Budget."
   ]
  },
  {
   "cell_type": "code",
   "execution_count": null,
   "metadata": {},
   "outputs": [],
   "source": [
    "ax = sns.regplot(x='popularity', y='revenue', data=df_movies_clean, scatter_kws={'color': 'm','alpha':0.3}, line_kws={'color': 'red'});"
   ]
  },
  {
   "cell_type": "markdown",
   "metadata": {},
   "source": [
    "Similarly to what we observed in the popularity section, movies between .5M and 1.5M are among the most popular."
   ]
  },
  {
   "cell_type": "code",
   "execution_count": null,
   "metadata": {},
   "outputs": [],
   "source": [
    "ax = sns.regplot(x='budget', y='revenue', data=df_movies_clean, scatter_kws={'color': 'm','alpha':0.3}, line_kws={'color': 'red'});"
   ]
  },
  {
   "cell_type": "markdown",
   "metadata": {},
   "source": [
    "There does appear to be some correlation between revenue and budget. It looks like movies with budgets between 1.5M and 3M tend to have higher revenue. Let's look at the adjusted budget and adjusted revenue variables."
   ]
  },
  {
   "cell_type": "code",
   "execution_count": null,
   "metadata": {
    "scrolled": true
   },
   "outputs": [],
   "source": [
    "ax = sns.regplot(x='budget_adj', y='revenue_adj', data=df_movies_clean, scatter_kws={'color': 'm','alpha':0.3}, line_kws={'color': 'red'});"
   ]
  },
  {
   "cell_type": "markdown",
   "metadata": {},
   "source": [
    "This scatterplot reveals slightly different findings. It appears that there are several higher earning movies in the <1M budget. Further analysis is needed.\n"
   ]
  },
  {
   "cell_type": "code",
   "execution_count": null,
   "metadata": {
    "scrolled": true
   },
   "outputs": [],
   "source": [
    "sns.scatterplot(data=df_movies_clean, x=\"runtime\", y=\"revenue\")\n",
    "plt.title('Runtime vs Revenue');"
   ]
  },
  {
   "cell_type": "markdown",
   "metadata": {},
   "source": [
    "This runtime scatter plot reveals that movies between an hour and 3.5 hours tend to have higher revenue. Runtime has a similar correlation with popularity. Due to this similarity, let's take a closer look at runtime."
   ]
  },
  {
   "cell_type": "code",
   "execution_count": null,
   "metadata": {},
   "outputs": [],
   "source": [
    "#Let's learn more about runtime using the .describe() function. We'll look at the mean.\n",
    "df_movies_clean['runtime'].describe()"
   ]
  },
  {
   "cell_type": "markdown",
   "metadata": {},
   "source": []
  },
  {
   "cell_type": "markdown",
   "metadata": {},
   "source": [
    "So according to the results above, the mean is 102.46 minutes of runtime. Let's look at a histogram of runtime to see that visually."
   ]
  },
  {
   "cell_type": "code",
   "execution_count": null,
   "metadata": {
    "scrolled": true
   },
   "outputs": [],
   "source": [
    "sns.set_style('darkgrid')\n",
    "\n",
    "plt.xlabel('Runtime in Minutes')\n",
    "plt.ylabel('Number of Movies')\n",
    "plt.title('Runtime')\n",
    "\n",
    "plt.hist(df_movies_clean['runtime'], bins=30);"
   ]
  },
  {
   "cell_type": "markdown",
   "metadata": {},
   "source": [
    "This again shows that the number of movies in the 1 to 3.5 range is higher than in others. This makes sense and explains why our data trends show more popular and higher revenue in this range."
   ]
  },
  {
   "cell_type": "markdown",
   "metadata": {},
   "source": [
    "<a id='years'></a>\n",
    "\n",
    "#### Years\n",
    "\n",
    "We're looking at the number of movies per year just for curiosity. It may inspire more questions for a future investigation."
   ]
  },
  {
   "cell_type": "code",
   "execution_count": null,
   "metadata": {},
   "outputs": [],
   "source": [
    "#We'll use a groupby function to count the number of movies per year.\n",
    "movies_per_year = df_movies_clean.groupby('release_year')['id'].count()\n",
    "movies_per_year"
   ]
  },
  {
   "cell_type": "code",
   "execution_count": null,
   "metadata": {},
   "outputs": [],
   "source": [
    "#Now let's create a visual of how many movies per year there are. We'll use a bar plot.\n",
    "\n",
    "movies_per_year.plot(kind='bar', color=['orange', 'blue', 'red', 'purple', 'green'], figsize=(15,10))\n",
    "plt.title('Number of Movies per Year')\n",
    "plt.xlabel('Years')\n",
    "plt.xticks(rotation = 45) # Rotates X-Axis Ticks by 45-degrees\n",
    "plt.ylabel('Number of Movies');"
   ]
  },
  {
   "cell_type": "markdown",
   "metadata": {},
   "source": [
    "<a id='genres'></a>\n",
    "\n",
    "#### Genres\n",
    "\n",
    "- Due to the \"|\" delimeter in the genre column, I struggled quite a bit with figuring out the best way to split them. I will continue to look into this, but for now I ended up using the same method as @hima888 in their project, here: https://github.com/hima888/Investigate-a-Dataset-TMDB-Movie-Data-/blob/master/investigate-a-dataset-template.ipynb\n",
    "\n",
    "- This method uses a function to split columns, which could also have been used for keywords, actors, production_company and some directors, though I found splitting directors to be unnecessary for our exploration.\n",
    "\n",
    "- For our purposes, we will only be using the genre variable to see how many movies are in each genre."
   ]
  },
  {
   "cell_type": "code",
   "execution_count": null,
   "metadata": {},
   "outputs": [],
   "source": [
    "#We call the split_count function here and display the number of movies per genre.\n",
    "genre_counts = split_count('genres')\n",
    "genre_counts\n"
   ]
  },
  {
   "cell_type": "code",
   "execution_count": null,
   "metadata": {},
   "outputs": [],
   "source": [
    "#Let's create a visual of these numbers using a bar plot like we did for years.\n",
    "\n",
    "genre_counts.plot(kind='bar', color=['orange', 'blue', 'red', 'purple', 'green'], figsize=(10,8))\n",
    "plt.title('Number of Movies per Genre')\n",
    "plt.xlabel('Genres')\n",
    "plt.xticks(rotation = 45) # Rotates X-Axis Ticks by 45-degrees\n",
    "plt.ylabel('Number of Movies');\n"
   ]
  },
  {
   "cell_type": "markdown",
   "metadata": {},
   "source": [
    "<a id='conclusions'></a>\n",
    "## Conclusions\n",
    "\n",
    "In this section, we will summarize our findings.\n",
    "\n",
    "The questions we explored:\n",
    "- Are movies with higher budgets more popular?\n",
    "- Do more popular movies have higher revenue?\n",
    "- Do movies with higher budgets have higher revenue?\n",
    "- Are runtime and popularity correlated?\n",
    "- Do movies with longer runtimes have higher revenue?\n",
    "- Which movies have the highest revenue (top 10)? Who directed them?\n",
    "- Which movies are the most popular (top 10)? Who directed them?\n",
    "- How many movies are there per year? \n",
    "- How many movies are in each genre?\n",
    "\n",
    "\n",
    "<a href=\"#intro\">Return to top</a>\n"
   ]
  },
  {
   "cell_type": "markdown",
   "metadata": {},
   "source": [
    "#### Popularity\n",
    "<a href=\"#popularity\">Return to popularity exploration</a>\n",
    "\n",
    "\n",
    "- The most popular movie is Jurassic World.\n",
    "- There doesn't appear to be a correlation between popularity and director, but deeper analysis is needed (see barplot).\n",
    "- Movies with revenue between .5M and 1.5M appear to be more popular.\n",
    "- Movies with budgets between 1M and 2M seem to be more popular.\n",
    "- Movies with runtimes between 1 and 3.5 hours appear to be more popular."
   ]
  },
  {
   "cell_type": "markdown",
   "metadata": {},
   "source": [
    "#### Revenue\n",
    "<a href=\"#revenue\">Return to revenue exploration</a>\n",
    "\n",
    "\n",
    "- The movie with the highest revenue is Avatar.\n",
    "- There may be a correlation between certain directors and revenue, as some directors appear more than once in the Top 10 movies with highest revenue.\n",
    "- Steven Spielberg has earned the most revenue for his movies over other directors. This could be related to the number of movies he's produced.\n",
    "- Again, movies with revenue between .5M and 1.5M tend to be more popular but further analysis is needed.\n",
    "- Revenue vs Budget and Adjusted Revenue vs Adjusted Budget show slighty different findings. \n",
    "- Revenue vs Budget showed that movies with budgets between 1.5M and 3M had more revenue, however Adjusted Revenue vs Adjusted budget showed that there were several higher revenues with budgets <1M. Further analysis is needed\n",
    "- Movies with runtimes between 1 and 3.5 hours appeart to have higher revenue. "
   ]
  },
  {
   "cell_type": "markdown",
   "metadata": {},
   "source": [
    "### Summary\n",
    "\n",
    "This broad overview of the available data gives us the ability to conceptualize the available variables and visualize the possible relationships between them. In a way, it provides a roadmap to further statistical analysis. The disadvantage is that we haven't made concrete, stastical conclusions for decision making. Our analysis is dependent on the limitations of the data provided, given that there were missing and null values, zeroes, etc. We did not perform deeper stastical calculations and therefore can only make assumptions and not solid conclusions with our analysis. \n",
    "\n",
    "With our analysis:\n",
    "\n",
    "We can infer that movies with budgets between 1M and 2M appear to be more popular. Likewise, movies with budgets between 1.5M and 3M appear to earn more revenue. However, with the adjusted values, we find that there are several movies with budgets <1M that do earn more. Further investigation is needed.\n",
    "\n",
    "Our Exploratory Data Analysis (EDA) with directors inspired more questions for further investigation. \n",
    "\n",
    "We can also conclude that movies with runtimes between 1 and 3.5 hours tend to be more popular and earn more revenue. We also discovered that most movies fall into this range. Further investigation is needed. \n",
    "\n",
    "There are many factors that could be explored with more in-depth analysis on this topic, however we now have a good understanding about how popularity, revenue, budget, and runtime influence each other.  \n",
    "\n"
   ]
  }
 ],
 "metadata": {
  "kernelspec": {
   "display_name": "Python 3 (ipykernel)",
   "language": "python",
   "name": "python3"
  },
  "language_info": {
   "codemirror_mode": {
    "name": "ipython",
    "version": 3
   },
   "file_extension": ".py",
   "mimetype": "text/x-python",
   "name": "python",
   "nbconvert_exporter": "python",
   "pygments_lexer": "ipython3",
   "version": "3.9.12"
  }
 },
 "nbformat": 4,
 "nbformat_minor": 2
}
